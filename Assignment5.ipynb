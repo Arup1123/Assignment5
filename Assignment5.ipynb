{
 "cells": [
  {
   "cell_type": "markdown",
   "id": "09f1f017-10fe-41be-9633-482429ccb199",
   "metadata": {},
   "source": [
    "Assignment 5"
   ]
  },
  {
   "cell_type": "markdown",
   "id": "f81fe763-c0b7-444f-8a2c-0d2307b98786",
   "metadata": {},
   "source": [
    "Q1. Create a vehicle class with an init methode having instance variables as name_ of_ vehicle,max_speed and avearage_of_vehicle. "
   ]
  },
  {
   "cell_type": "code",
   "execution_count": 21,
   "id": "82f92fb5-316d-4227-99bc-69484477f5a2",
   "metadata": {},
   "outputs": [
    {
     "data": {
      "text/plain": [
       "'Yamaha Fz'"
      ]
     },
     "execution_count": 21,
     "metadata": {},
     "output_type": "execute_result"
    }
   ],
   "source": [
    "#Ans:\n",
    "class vehicle:\n",
    "    def __init__(self,name_of_vehicle,max_speed,average_of_vehicle):\n",
    "        self.name_of_vehicle=name_of_vehicle\n",
    "        self.max_speed=max_speed\n",
    "        self.average_of_vehicle=average_of_vehicle\n",
    "x=vehicle(\"Yamaha Fz\",120,90)\n",
    "x.name_of_vehicle"
   ]
  },
  {
   "cell_type": "markdown",
   "id": "806bac94-c2da-43b1-b229-c498fd0e0b9e",
   "metadata": {},
   "source": [
    "Q2. Create a child class car from vehicle class created in Que 1, which will inherit the vehicle class.\n",
    "    Create a method named seating_capacity which takes capacity as an argument and returns the name of the\n",
    "    vehicle and its seating capacity. "
   ]
  },
  {
   "cell_type": "code",
   "execution_count": 3,
   "id": "f2bf290b-3d50-478c-8b1d-664feeb347ff",
   "metadata": {},
   "outputs": [
    {
     "data": {
      "text/plain": [
       "('SUV', 5)"
      ]
     },
     "execution_count": 3,
     "metadata": {},
     "output_type": "execute_result"
    }
   ],
   "source": [
    "#Ans:\n",
    "class car(vehicle):\n",
    "    def seating_capacity(self,capacity):\n",
    "        self.capacity=capacity\n",
    "        return self.name_of_vehicle, self.capacity\n",
    "x=car(\"SUV\",70,60)\n",
    "x.seating_capacity(5)"
   ]
  },
  {
   "cell_type": "markdown",
   "id": "8c240ce1-1601-4bf8-b3fa-1c7446ad82b0",
   "metadata": {},
   "source": [
    "Q3. What is multiple inheritance? Write a python code to demonstrate multiple inheritance."
   ]
  },
  {
   "cell_type": "markdown",
   "id": "e6db8c17-14e6-4a83-bc3a-570313ad9218",
   "metadata": {},
   "source": [
    "Ans:\n",
    "Inheritance is the mechanism to achieve the reusability of code as one class(child class) can derive\n",
    "the properties of another class(parent class).When a class is derived from more than one base class it is called multiple inheritance.The derived class inherits all the features of the base case.\n"
   ]
  },
  {
   "cell_type": "code",
   "execution_count": 4,
   "id": "f4f55836-8772-427e-a4be-6a384ad17218",
   "metadata": {},
   "outputs": [
    {
     "name": "stdout",
     "output_type": "stream",
     "text": [
      "5\n",
      "30\n",
      "5.0\n"
     ]
    }
   ],
   "source": [
    "#Multiple inheritance example:\n",
    "class class1:                   #define base class class1\n",
    "    def sum(self,a,b):\n",
    "        return a+b\n",
    "class class2:                        #define another base class class2\n",
    "    def multiply(self,a,b):\n",
    "        return a*b\n",
    "class class3(class1,class2):          # here class3 is a derived class which inherit class1 and class2\n",
    "    def division(self,a,b):\n",
    "        return a/b\n",
    "x=class3()                           #creat an object x\n",
    "print(x.sum(2,3))\n",
    "print(x.multiply(5,6))\n",
    "print(x.division(10,2))"
   ]
  },
  {
   "cell_type": "markdown",
   "id": "54fdf697-bd32-4243-ba6c-e95c28593768",
   "metadata": {},
   "source": [
    "Q4. What are getter and setter in python? Create a class and create a getter and setter method in this class."
   ]
  },
  {
   "cell_type": "markdown",
   "id": "0aa8af99-d7ed-4195-9384-3a8753b24099",
   "metadata": {},
   "source": [
    "Ans: Getter and setter are methods used in many object oriented programming languages.\n",
    "    Getter: A method that allows we to access an attribute in a given class.\n",
    "    Setter: A method that allows we to set or mutate the value of an attribute in a class.\n"
   ]
  },
  {
   "cell_type": "code",
   "execution_count": 9,
   "id": "1f3d32bf-0807-4237-a37d-c144d051b868",
   "metadata": {},
   "outputs": [
    {
     "name": "stdout",
     "output_type": "stream",
     "text": [
      "25\n",
      "21\n"
     ]
    }
   ],
   "source": [
    "#Example:\n",
    "class person:\n",
    "    def __init__(self,age):\n",
    "        self._age=age\n",
    "    def get_age(self):            \n",
    "        return self._age\n",
    "    def set_age(self,value):\n",
    "        self._age=value\n",
    "ram=person(25)\n",
    "print(ram.get_age())\n",
    "ram.set_age(21)\n",
    "print(ram.get_age())\n"
   ]
  },
  {
   "cell_type": "markdown",
   "id": "263c238e-60f9-4d58-9792-18728ebfb54a",
   "metadata": {},
   "source": [
    "Q5. What is method overriding in python? Write a python code to demonstrate method overriding."
   ]
  },
  {
   "cell_type": "markdown",
   "id": "27cc3fc1-f6e7-4130-a9fd-9ffcfeb6a9d5",
   "metadata": {},
   "source": [
    "Ans: Method overriding is an ability of any object-oriented programming language that allows a subclass or child class\n",
    "     to provide a specific implementation of a method that is already provided by one of its super-classes or parent classes.\n",
    "     When a method in a subclass has the same name, same parameters or signature and same return type (or sub-type) as a            method in its super class, then the method in the subclass is said to override the method in the super-class. "
   ]
  },
  {
   "cell_type": "code",
   "execution_count": 19,
   "id": "ad123dd1-e090-4a44-98d7-a80afe1a0b86",
   "metadata": {},
   "outputs": [
    {
     "name": "stdout",
     "output_type": "stream",
     "text": [
      "I am in class1\n",
      "I am in class2\n"
     ]
    }
   ],
   "source": [
    "class class1:                             #define class1\n",
    "    def __init__(self):                   #define constructor\n",
    "        self.value=\"I am in class1\"\n",
    "    def show(self):                       #class1's show method\n",
    "        print(self.value)\n",
    "class class2(class1):                     #define class2\n",
    "    def __init__(self):                    #constructor\n",
    "        self.value=\"I am in class2\"\n",
    "    def show(self):                       #class2's show method    \n",
    "        print(self.value)\n",
    "x=class1()                               #create object x,y\n",
    "y=class2()\n",
    "x.show()\n",
    "y.show()\n",
    "    "
   ]
  },
  {
   "cell_type": "code",
   "execution_count": null,
   "id": "5142a69d-8962-42a6-a987-13de80ef8533",
   "metadata": {},
   "outputs": [],
   "source": []
  }
 ],
 "metadata": {
  "kernelspec": {
   "display_name": "Python 3 (ipykernel)",
   "language": "python",
   "name": "python3"
  },
  "language_info": {
   "codemirror_mode": {
    "name": "ipython",
    "version": 3
   },
   "file_extension": ".py",
   "mimetype": "text/x-python",
   "name": "python",
   "nbconvert_exporter": "python",
   "pygments_lexer": "ipython3",
   "version": "3.10.8"
  }
 },
 "nbformat": 4,
 "nbformat_minor": 5
}
